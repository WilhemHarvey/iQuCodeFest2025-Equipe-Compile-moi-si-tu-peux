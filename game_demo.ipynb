{
 "cells": [
  {
   "cell_type": "markdown",
   "id": "5adf7bd6",
   "metadata": {},
   "source": [
    "# **The quantum werewolf**\n",
    "Our game is a quantum version of the role game: \"Werewolf\". The main idea is that each character's state is represented by a qubit state, and that each role can apply a gate on a quantum circuit. \n",
    "\n",
    "Indeed, each character starts in the $\\ket{0}$ state meaning \"alive\", while the $\\ket{1}$ state means \"dead\". Some role-specific actions, such as described below, are able to change the quantum state of some players to bring them closer to death...\n",
    "\n",
    "In the morning, when the village wakes up, the quantum circuit created and updated during the night will be measured in the Z-basis. If the outcome of the measurement for a player is the state $\\ket{1}$ then the player is dead. Else if the state measured is $\\ket{0}$, the player lives for another day.  "
   ]
  },
  {
   "cell_type": "markdown",
   "id": "3ecfe900",
   "metadata": {},
   "source": [
    "## **Goal of the game - Winning conditions**\n",
    "Two different parties are fighting, the village and the werewolves. The villagers wants to kill the werewolves to protect themself, while the werewolves wants to kill all the villagers. \n",
    "\n",
    "There's some cases that can trigger the end of the game. \n",
    "1. If all the werewolves have been eliminated, then the village has won. \n",
    "2. If the number of werewolves is more than half of the village, then the werewolves have won, because they will eventually kill all of the village."
   ]
  },
  {
   "cell_type": "markdown",
   "id": "ca1dfdfd",
   "metadata": {},
   "source": [
    "## **Presentation of the roles - Game mechanics**\n",
    "\n",
    "#### **Proceeding of an entire tour - a Night and a Day**\n",
    "\n",
    "#### **NIGHT**\n",
    "During the night, the village is asleep, but most of the characters have a specific role to play when they are called by the Game Master. Below are presented the different roles in the same order as they would be called by the Game  Master.\n",
    "\n",
    "Note that the night begins with the creation of a Quantum Circuit, that will contain the states of all the players in a state different of the initial state $\\ket{0}$. We begin with a Quantum Circuit with only one qubit, since at least one player is going to be charged by the Werewolves and then will undergo a quantum state change."
   ]
  },
  {
   "cell_type": "code",
   "execution_count": 9,
   "id": "4c02ca0e",
   "metadata": {},
   "outputs": [],
   "source": [
    "from Night import *\n",
    "from qiskit import QuantumCircuit\n",
    "\n",
    "# In order to create a Night instance, we need to have an example list of players and roles.\n",
    "# In practice, the roles are assigned randomy to the players, but for this example, we will deal with a simple fixed set of players and roles.\n",
    "\n",
    "# The players will be numeroted from 0 to 10, and will have the following roles in the same order: \n",
    "# Here for example 2 villagers and 2 Werewolves, 1 Cupid, 1 Witch, 1 Hunter, 1 Seer, 1 Captain, 1 Thief and 1 Savior.\n",
    "active_player_roles = [\"Villager\",\"Villager\",  \"Werewolf\", \"Werewolf\", \"Cupid\", \"Witch\", \"Hunter\", \"Seer\", \"Captain\", \"Thied\", \"Savior\"]\n",
    "\n",
    "# initiate the Witch power\n",
    "witch_power = [True, True]  # [can_heal, can_attack]"
   ]
  },
  {
   "cell_type": "markdown",
   "id": "0b8a52c5",
   "metadata": {},
   "source": [
    "#### **-> Cupid**\n",
    "Cupid can play his role only during the first night of the game. His role is to choose two lovers which will be entangled for the rest of the game. When two players are lovers, they are affected by a control gate each night before the measurement of the circuit. That has the effect of killing both if one is measured on $\\ket{1}$, because of the projective measurement.\n",
    "\n",
    "For implementation purposes, that CNOT gate will be apply at the end of the night (see below).\n",
    "\n",
    "Since Cupid only has a role during the first night, he is in practice called before to instantiate an instance of the class Night, to decide which players will be lovers and have their destiny linked forever."
   ]
  },
  {
   "cell_type": "code",
   "execution_count": 10,
   "id": "f6ef6705",
   "metadata": {},
   "outputs": [
    {
     "data": {
      "image/png": "[encoded data removed]",
      "text/plain": [
       "<Figure size 100.553x81.9389 with 1 Axes>"
      ]
     },
     "execution_count": 10,
     "metadata": {},
     "output_type": "execute_result"
    }
   ],
   "source": [
    "# initiate the couple chosen by Cupid\n",
    "couple = couple = [1,7]\n",
    "\n",
    "# create a Night instance\n",
    "night = Night(active_player_roles, witch_power, couple)\n",
    "(night.qc).draw('mpl', scale = 0.7, style='clifford')"
   ]
  },
  {
   "cell_type": "markdown",
   "id": "d7e2433a",
   "metadata": {},
   "source": [
    "Note that the actual player experience is much more funny! The lovers, and all the players targeted by some specific action will be provided by the Game Master who will have to input the names of the players (an internal function converts from names to indexes) in the terminal."
   ]
  },
  {
   "cell_type": "markdown",
   "id": "019fa8e0",
   "metadata": {},
   "source": [
    "#### **-> The Seer**\n",
    "The Seer has the same ability as in the classical game. The player can see the role of another player."
   ]
  },
  {
   "cell_type": "code",
   "execution_count": 11,
   "id": "6ef27fec",
   "metadata": {},
   "outputs": [
    {
     "name": "stdout",
     "output_type": "stream",
     "text": [
      "Captain\n"
     ]
    }
   ],
   "source": [
    "# Player whose the Seer wants to see the role\n",
    "player_index = 8\n",
    "player_role = night.Seer(player_index)\n",
    "print(player_role)"
   ]
  },
  {
   "cell_type": "markdown",
   "id": "d5e50a8d",
   "metadata": {},
   "source": [
    "#### **-> The Werewolves**\n",
    "During the night, the werewolves vote for a player that they want to affect with their gate. The unfortunate player is affected by the gate $R_X(\\frac{2\\pi}{3})$. That gate then creates a superposition state $\\frac{\\ket{0} -i \\sqrt{3}\\ket{1}}{2}$, implying that the affected player has now has $75$% probability to die because of his injuries caused by the Werewolves' attack, when the measurement is realized on the morning."
   ]
  },
  {
   "cell_type": "code",
   "execution_count": 12,
   "id": "041a88b1",
   "metadata": {},
   "outputs": [
    {
     "data": {
      "image/png": "[encoded data removed]",
      "text/plain": [
       "<Figure size 129.817x81.9389 with 1 Axes>"
      ]
     },
     "execution_count": 12,
     "metadata": {},
     "output_type": "execute_result"
    }
   ],
   "source": [
    "# Players the Werewolves want to attack\n",
    "player_index = 1\n",
    "night.Werewolf(player_index)\n",
    "\n",
    "# updated Quantum Circuit\n",
    "night.qc.draw('mpl', scale = 0.7, style='clifford')"
   ]
  },
  {
   "cell_type": "markdown",
   "id": "985d1e0a",
   "metadata": {},
   "source": [
    "#### **The Witch**\n",
    "The witch can apply two different gates during the game, corresponding respectively to the heal and attack powers. The player can decide which gate he wants to apply for a given turn. The whitch can only apply these gates once each in the game. \n",
    "\n",
    "The attacking gate is simply a $R_X(\\frac{\\pi}{3})$ gate on the targeted player, and the save gate is a $R_X(\\frac{-\\pi}{3})$ so that the probability of measuring $\\ket{1}$ is greater or lower. "
   ]
  },
  {
   "cell_type": "code",
   "execution_count": 13,
   "id": "9f3abb50",
   "metadata": {},
   "outputs": [
    {
     "name": "stdout",
     "output_type": "stream",
     "text": [
      "[False, True]\n"
     ]
    },
    {
     "data": {
      "image/png": "[encoded data removed]",
      "text/plain": [
       "<Figure size 188.345x81.9389 with 1 Axes>"
      ]
     },
     "execution_count": 13,
     "metadata": {},
     "output_type": "execute_result"
    }
   ],
   "source": [
    "# Suppose the Witch wants to heal the player who has been attacked by the Werewolves\n",
    "# (Note: in the actual gameplay, the Witch will be asked if she wants to heal or attack, and will choose one of the two actions)\n",
    "\n",
    "night.Witch(save_attacked_player=True, attack_player = None, attack_player_index= 0)\n",
    "\n",
    "# updated Quantum Circuit after the Witch's action, and updated witch_power\n",
    "print(night.witch_ability)\n",
    "night.qc.draw('mpl', scale = 0.7, style='clifford')"
   ]
  },
  {
   "cell_type": "markdown",
   "id": "11eb6c27",
   "metadata": {},
   "source": [
    "#### **The Saviour**\n",
    "The saviour is the protector of the village. He has a special ability that he can do once per turn. The saviour can reset the qubit of a player to the $\\ket{0}$ state. The probability of the targeted player dying is then reset to zero, as the state is no longer a superposition state. \n",
    "If the player to protect is not already endangered, nothing is done."
   ]
  },
  {
   "cell_type": "code",
   "execution_count": 14,
   "id": "4e5b1d79",
   "metadata": {},
   "outputs": [
    {
     "data": {
      "image/png": "[encoded data removed]",
      "text/plain": [
       "<Figure size 188.345x81.9389 with 1 Axes>"
      ]
     },
     "execution_count": 14,
     "metadata": {},
     "output_type": "execute_result"
    }
   ],
   "source": [
    "# Player to protect\n",
    "player_index = 0\n",
    "\n",
    "night.Savior(player_index)\n",
    "\n",
    "night.qc.draw('mpl', scale = 0.7, style='clifford')\n"
   ]
  },
  {
   "cell_type": "markdown",
   "id": "2b52fd97",
   "metadata": {},
   "source": [
    "#### **The Thief**\n",
    "The thief can exchange role with another player of his choice. The idea behind this role is a swap gate between the two players. The swap gate is only applied if the two players have been attacked. If not, we change their indices to acces their qubits. The thief change role and quantum state with the targeted player. "
   ]
  },
  {
   "cell_type": "code",
   "execution_count": 30,
   "id": "40beb370",
   "metadata": {},
   "outputs": [
    {
     "ename": "AttributeError",
     "evalue": "'Night' object has no attribute 'roles'",
     "output_type": "error",
     "traceback": [
      "\u001b[31m---------------------------------------------------------------------------\u001b[39m",
      "\u001b[31mAttributeError\u001b[39m                            Traceback (most recent call last)",
      "\u001b[36mCell\u001b[39m\u001b[36m \u001b[39m\u001b[32mIn[30]\u001b[39m\u001b[32m, line 3\u001b[39m\n\u001b[32m      1\u001b[39m \u001b[38;5;66;03m# Player to rob\u001b[39;00m\n\u001b[32m      2\u001b[39m player_index = \u001b[32m4\u001b[39m\n\u001b[32m----> \u001b[39m\u001b[32m3\u001b[39m active_player_roles = \u001b[43mnight\u001b[49m\u001b[43m.\u001b[49m\u001b[43mThief\u001b[49m\u001b[43m(\u001b[49m\u001b[43mplayer_index\u001b[49m\u001b[43m)\u001b[49m\n\u001b[32m      5\u001b[39m \u001b[38;5;66;03m# updated active_player_roles after the Thief's action\u001b[39;00m\n\u001b[32m      6\u001b[39m \u001b[38;5;28mprint\u001b[39m(active_player_roles)\n",
      "\u001b[36mFile \u001b[39m\u001b[32m~/TUNGTUNGTUNGSAHUR/Night.py:78\u001b[39m, in \u001b[36mNight.Thief\u001b[39m\u001b[34m(self, player_to_steal)\u001b[39m\n\u001b[32m     77\u001b[39m \u001b[38;5;28;01mdef\u001b[39;00m\u001b[38;5;250m \u001b[39m\u001b[34mThief\u001b[39m(\u001b[38;5;28mself\u001b[39m, player_to_steal):\n\u001b[32m---> \u001b[39m\u001b[32m78\u001b[39m     stealer = np.argwhere(\u001b[38;5;28;43mself\u001b[39;49m\u001b[43m.\u001b[49m\u001b[43mroles\u001b[49m == \u001b[33m\"\u001b[39m\u001b[33mthief\u001b[39m\u001b[33m\"\u001b[39m)[\u001b[32m0\u001b[39m][\u001b[32m0\u001b[39m]\n\u001b[32m     79\u001b[39m     \u001b[38;5;28;01mif\u001b[39;00m stealer \u001b[38;5;129;01min\u001b[39;00m \u001b[38;5;28mself\u001b[39m.couple \u001b[38;5;129;01mand\u001b[39;00m player_to_steal \u001b[38;5;129;01mnot\u001b[39;00m \u001b[38;5;129;01min\u001b[39;00m \u001b[38;5;28mself\u001b[39m.couple:\n\u001b[32m     80\u001b[39m         \u001b[38;5;28mself\u001b[39m.couple[np.argwhere(\u001b[38;5;28mself\u001b[39m.couple == stealer)[\u001b[32m0\u001b[39m][\u001b[32m0\u001b[39m]] = player_to_steal\n",
      "\u001b[31mAttributeError\u001b[39m: 'Night' object has no attribute 'roles'"
     ]
    }
   ],
   "source": [
    "# Player to rob\n",
    "player_index = 4\n",
    "active_player_roles = night.Thief(player_index)\n",
    "\n",
    "# updated active_player_roles after the Thief's action\n",
    "print(active_player_roles)"
   ]
  },
  {
   "cell_type": "code",
   "execution_count": null,
   "id": "f91762a9",
   "metadata": {},
   "outputs": [
    {
     "ename": "CircuitError",
     "evalue": "'Index 1 out of range for size 1.'",
     "output_type": "error",
     "traceback": [
      "\u001b[31m---------------------------------------------------------------------------\u001b[39m",
      "\u001b[31mIndexError\u001b[39m                                Traceback (most recent call last)",
      "\u001b[36mFile \u001b[39m\u001b[32m~/TUNGTUNGTUNGSAHUR/.venv/lib/python3.12/site-packages/qiskit/circuit/quantumcircuit.py:6819\u001b[39m, in \u001b[36m_bit_argument_conversion\u001b[39m\u001b[34m(specifier, bit_sequence, bit_set, type_)\u001b[39m\n\u001b[32m   6818\u001b[39m \u001b[38;5;28;01mtry\u001b[39;00m:\n\u001b[32m-> \u001b[39m\u001b[32m6819\u001b[39m     \u001b[38;5;28;01mreturn\u001b[39;00m [\u001b[43mbit_sequence\u001b[49m\u001b[43m[\u001b[49m\u001b[43mspecifier\u001b[49m\u001b[43m]\u001b[49m]\n\u001b[32m   6820\u001b[39m \u001b[38;5;28;01mexcept\u001b[39;00m \u001b[38;5;167;01mIndexError\u001b[39;00m \u001b[38;5;28;01mas\u001b[39;00m ex:\n",
      "\u001b[31mIndexError\u001b[39m: list index out of range",
      "\nThe above exception was the direct cause of the following exception:\n",
      "\u001b[31mCircuitError\u001b[39m                              Traceback (most recent call last)",
      "\u001b[36mCell\u001b[39m\u001b[36m \u001b[39m\u001b[32mIn[15]\u001b[39m\u001b[32m, line 2\u001b[39m\n\u001b[32m      1\u001b[39m \u001b[38;5;66;03m# The night is now over\u001b[39;00m\n\u001b[32m----> \u001b[39m\u001b[32m2\u001b[39m night_qc, endangered_players = \u001b[43mnight\u001b[49m\u001b[43m.\u001b[49m\u001b[43mFinish_Night\u001b[49m\u001b[43m(\u001b[49m\u001b[43m)\u001b[49m\n\u001b[32m      4\u001b[39m \u001b[38;5;66;03m# updatated Quantum Circuit after the night is over\u001b[39;00m\n\u001b[32m      5\u001b[39m night_qc.draw(\u001b[33m'\u001b[39m\u001b[33mmpl\u001b[39m\u001b[33m'\u001b[39m, scale = \u001b[32m0.7\u001b[39m, style=\u001b[33m'\u001b[39m\u001b[33mclifford\u001b[39m\u001b[33m'\u001b[39m)\n",
      "\u001b[36mFile \u001b[39m\u001b[32m~/TUNGTUNGTUNGSAHUR/Night.py:123\u001b[39m, in \u001b[36mNight.Finish_Night\u001b[39m\u001b[34m(self)\u001b[39m\n\u001b[32m    121\u001b[39m \u001b[38;5;28;01mif\u001b[39;00m player \u001b[38;5;129;01min\u001b[39;00m \u001b[38;5;28mself\u001b[39m.endangered_players :\n\u001b[32m    122\u001b[39m     lover_qc = QuantumCircuit(\u001b[32m3\u001b[39m)\n\u001b[32m--> \u001b[39m\u001b[32m123\u001b[39m     \u001b[38;5;28;43mself\u001b[39;49m\u001b[43m.\u001b[49m\u001b[43mqc\u001b[49m\u001b[43m.\u001b[49m\u001b[43mappend\u001b[49m\u001b[43m(\u001b[49m\u001b[43mlover_qc\u001b[49m\u001b[43m,\u001b[49m\u001b[43m \u001b[49m\u001b[43m[\u001b[49m\u001b[32;43m0\u001b[39;49m\u001b[43m,\u001b[49m\u001b[32;43m1\u001b[39;49m\u001b[43m,\u001b[49m\u001b[32;43m2\u001b[39;49m\u001b[43m]\u001b[49m\u001b[43m)\u001b[49m\n\u001b[32m    124\u001b[39m     \u001b[38;5;28mself\u001b[39m.qc.cx(\u001b[32m0\u001b[39m,\u001b[32m1\u001b[39m)\n\u001b[32m    125\u001b[39m     \u001b[38;5;28mself\u001b[39m.endangered_players.append(\u001b[38;5;28mself\u001b[39m.lover_in_danger)\n",
      "\u001b[36mFile \u001b[39m\u001b[32m~/TUNGTUNGTUNGSAHUR/.venv/lib/python3.12/site-packages/qiskit/circuit/quantumcircuit.py:2547\u001b[39m, in \u001b[36mQuantumCircuit.append\u001b[39m\u001b[34m(self, instruction, qargs, cargs, copy)\u001b[39m\n\u001b[32m   2535\u001b[39m     \u001b[38;5;28;01mif\u001b[39;00m bad_captures := {\n\u001b[32m   2536\u001b[39m         var\n\u001b[32m   2537\u001b[39m         \u001b[38;5;28;01mfor\u001b[39;00m var \u001b[38;5;129;01min\u001b[39;00m itertools.chain.from_iterable(\n\u001b[32m   (...)\u001b[39m\u001b[32m   2540\u001b[39m         \u001b[38;5;28;01mif\u001b[39;00m \u001b[38;5;129;01mnot\u001b[39;00m \u001b[38;5;28mself\u001b[39m.has_var(var)\n\u001b[32m   2541\u001b[39m     }:\n\u001b[32m   2542\u001b[39m         \u001b[38;5;28;01mraise\u001b[39;00m CircuitError(\n\u001b[32m   2543\u001b[39m             \u001b[33mf\u001b[39m\u001b[33m\"\u001b[39m\u001b[33mControl-flow op attempts to capture \u001b[39m\u001b[33m'\u001b[39m\u001b[38;5;132;01m{\u001b[39;00mbad_captures\u001b[38;5;132;01m}\u001b[39;00m\u001b[33m'\u001b[39m\u001b[33m\"\u001b[39m\n\u001b[32m   2544\u001b[39m             \u001b[33m\"\u001b[39m\u001b[33m which are not in this circuit\u001b[39m\u001b[33m\"\u001b[39m\n\u001b[32m   2545\u001b[39m         )\n\u001b[32m-> \u001b[39m\u001b[32m2547\u001b[39m expanded_qargs = [\u001b[38;5;28;43mself\u001b[39;49m\u001b[43m.\u001b[49m\u001b[43m_qbit_argument_conversion\u001b[49m\u001b[43m(\u001b[49m\u001b[43mqarg\u001b[49m\u001b[43m)\u001b[49m \u001b[38;5;28;01mfor\u001b[39;00m qarg \u001b[38;5;129;01min\u001b[39;00m qargs \u001b[38;5;129;01mor\u001b[39;00m []]\n\u001b[32m   2548\u001b[39m expanded_cargs = [\u001b[38;5;28mself\u001b[39m._cbit_argument_conversion(carg) \u001b[38;5;28;01mfor\u001b[39;00m carg \u001b[38;5;129;01min\u001b[39;00m cargs \u001b[38;5;129;01mor\u001b[39;00m []]\n\u001b[32m   2550\u001b[39m instructions = InstructionSet(resource_requester=circuit_scope.resolve_classical_resource)\n",
      "\u001b[36mFile \u001b[39m\u001b[32m~/TUNGTUNGTUNGSAHUR/.venv/lib/python3.12/site-packages/qiskit/circuit/quantumcircuit.py:2397\u001b[39m, in \u001b[36mQuantumCircuit._qbit_argument_conversion\u001b[39m\u001b[34m(self, qubit_representation)\u001b[39m\n\u001b[32m   2386\u001b[39m \u001b[38;5;28;01mdef\u001b[39;00m\u001b[38;5;250m \u001b[39m\u001b[34m_qbit_argument_conversion\u001b[39m(\u001b[38;5;28mself\u001b[39m, qubit_representation: QubitSpecifier) -> \u001b[38;5;28mlist\u001b[39m[Qubit]:\n\u001b[32m   2387\u001b[39m \u001b[38;5;250m    \u001b[39m\u001b[33;03m\"\"\"\u001b[39;00m\n\u001b[32m   2388\u001b[39m \u001b[33;03m    Converts several qubit representations (such as indexes, range, etc.)\u001b[39;00m\n\u001b[32m   2389\u001b[39m \u001b[33;03m    into a list of qubits.\u001b[39;00m\n\u001b[32m   (...)\u001b[39m\u001b[32m   2395\u001b[39m \u001b[33;03m        The resolved instances of the qubits.\u001b[39;00m\n\u001b[32m   2396\u001b[39m \u001b[33;03m    \"\"\"\u001b[39;00m\n\u001b[32m-> \u001b[39m\u001b[32m2397\u001b[39m     \u001b[38;5;28;01mreturn\u001b[39;00m \u001b[43m_bit_argument_conversion\u001b[49m\u001b[43m(\u001b[49m\n\u001b[32m   2398\u001b[39m \u001b[43m        \u001b[49m\u001b[43mqubit_representation\u001b[49m\u001b[43m,\u001b[49m\u001b[43m \u001b[49m\u001b[38;5;28;43mself\u001b[39;49m\u001b[43m.\u001b[49m\u001b[43mqubits\u001b[49m\u001b[43m,\u001b[49m\u001b[43m \u001b[49m\u001b[38;5;28;43mself\u001b[39;49m\u001b[43m.\u001b[49m\u001b[43m_qubit_indices\u001b[49m\u001b[43m,\u001b[49m\u001b[43m \u001b[49m\u001b[43mQubit\u001b[49m\n\u001b[32m   2399\u001b[39m \u001b[43m    \u001b[49m\u001b[43m)\u001b[49m\n",
      "\u001b[36mFile \u001b[39m\u001b[32m~/TUNGTUNGTUNGSAHUR/.venv/lib/python3.12/site-packages/qiskit/circuit/quantumcircuit.py:6821\u001b[39m, in \u001b[36m_bit_argument_conversion\u001b[39m\u001b[34m(specifier, bit_sequence, bit_set, type_)\u001b[39m\n\u001b[32m   6819\u001b[39m         \u001b[38;5;28;01mreturn\u001b[39;00m [bit_sequence[specifier]]\n\u001b[32m   6820\u001b[39m     \u001b[38;5;28;01mexcept\u001b[39;00m \u001b[38;5;167;01mIndexError\u001b[39;00m \u001b[38;5;28;01mas\u001b[39;00m ex:\n\u001b[32m-> \u001b[39m\u001b[32m6821\u001b[39m         \u001b[38;5;28;01mraise\u001b[39;00m CircuitError(\n\u001b[32m   6822\u001b[39m             \u001b[33mf\u001b[39m\u001b[33m\"\u001b[39m\u001b[33mIndex \u001b[39m\u001b[38;5;132;01m{\u001b[39;00mspecifier\u001b[38;5;132;01m}\u001b[39;00m\u001b[33m out of range for size \u001b[39m\u001b[38;5;132;01m{\u001b[39;00m\u001b[38;5;28mlen\u001b[39m(bit_sequence)\u001b[38;5;132;01m}\u001b[39;00m\u001b[33m.\u001b[39m\u001b[33m\"\u001b[39m\n\u001b[32m   6823\u001b[39m         ) \u001b[38;5;28;01mfrom\u001b[39;00m\u001b[38;5;250m \u001b[39m\u001b[34;01mex\u001b[39;00m\n\u001b[32m   6824\u001b[39m \u001b[38;5;66;03m# Slices can't raise IndexError - they just return an empty list.\u001b[39;00m\n\u001b[32m   6825\u001b[39m \u001b[38;5;28;01mif\u001b[39;00m \u001b[38;5;28misinstance\u001b[39m(specifier, \u001b[38;5;28mslice\u001b[39m):\n",
      "\u001b[31mCircuitError\u001b[39m: 'Index 1 out of range for size 1.'"
     ]
    }
   ],
   "source": [
    "# The night is now over\n",
    "night_qc, endangered_players = night.Finish_Night()\n",
    "\n",
    "# updatated Quantum Circuit after the night is over\n",
    "night_qc.draw('mpl', scale = 0.7, style='clifford')"
   ]
  },
  {
   "cell_type": "markdown",
   "id": "f04cccf8",
   "metadata": {},
   "source": [
    "#### **DAY**"
   ]
  },
  {
   "cell_type": "code",
   "execution_count": null,
   "id": "b01de567",
   "metadata": {},
   "outputs": [],
   "source": [
    "from Day import *\n",
    "\n",
    "# Creates an instance of Day\n",
    "day = Day(night_qc, endangered_players, active_player_roles, couple)\n",
    "\n"
   ]
  },
  {
   "cell_type": "markdown",
   "id": "9e4b133e",
   "metadata": {},
   "source": [
    "#### **The Captain**\n",
    "This role is also much of a classical role. The captain has two votes instead of only one during the vote phase."
   ]
  },
  {
   "cell_type": "markdown",
   "id": "31d36cda",
   "metadata": {},
   "source": []
  },
  {
   "cell_type": "markdown",
   "id": "5268eec1",
   "metadata": {},
   "source": []
  },
  {
   "cell_type": "markdown",
   "id": "b428918c",
   "metadata": {},
   "source": [
    "#### **The Hunter**\n",
    "The hunter is a simple villager until he dies. When he's measured at the state $\\ket{1}$, that is to say when he dies, the hunter can target a player to affect with his gate. His gate is a $R_X(\\theta)$ that creates the superposition state $\\sqrt{0.1}\\ket{0} + \\sqrt{0.9}\\ket{1}$ from the state $\\ket{0}$. That get has the effect that the next measurement on the targeted player will kill him with a probability of 90%. As a matter of fact, the qubit of the targeted player is instantly measured, killing or not the targeted player based on the measurement result. The hunter then dies too, has he is supposed to."
   ]
  },
  {
   "cell_type": "markdown",
   "id": "d97d61b0",
   "metadata": {},
   "source": [
    "## **Running the game**\n",
    "We implemented the game such that you can play it as the master of the game and use it to direct the game according to what the code tells you."
   ]
  },
  {
   "cell_type": "code",
   "execution_count": null,
   "id": "1764cab2",
   "metadata": {},
   "outputs": [],
   "source": [
    "# Some imports to visualize the circuits \n",
    "from qiskit import QuantumCircuit"
   ]
  },
  {
   "cell_type": "code",
   "execution_count": null,
   "id": "e92a7792",
   "metadata": {},
   "outputs": [
    {
     "data": {
      "text/plain": [
       "3"
      ]
     },
     "execution_count": 2,
     "metadata": {},
     "output_type": "execute_result"
    }
   ],
   "source": [
    "a = [1,1,2,1,3,4]\n",
    "a.count(1)"
   ]
  },
  {
   "cell_type": "code",
   "execution_count": null,
   "id": "824c8de4",
   "metadata": {},
   "outputs": [],
   "source": []
  }
 ],
 "metadata": {
  "kernelspec": {
   "display_name": ".venv",
   "language": "python",
   "name": "python3"
  },
  "language_info": {
   "codemirror_mode": {
    "name": "ipython",
    "version": 3
   },
   "file_extension": ".py",
   "mimetype": "text/x-python",
   "name": "python",
   "nbconvert_exporter": "python",
   "pygments_lexer": "ipython3",
   "version": "3.12.11"
  }
 },
 "nbformat": 4,
 "nbformat_minor": 5
}
