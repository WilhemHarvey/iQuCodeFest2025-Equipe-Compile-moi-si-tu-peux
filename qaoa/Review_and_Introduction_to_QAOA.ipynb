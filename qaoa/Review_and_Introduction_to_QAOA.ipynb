{
 "cells": [
  {
   "cell_type": "markdown",
   "metadata": {},
   "source": [
    "# Introduction to Quantum Variational Algorithms (VQAs) and<br> Quantum Approximate Optimization Algorithm (QAOA)\n",
    "\n",
    "**Disclaimer**\n",
    "\n",
    "This section is an introduction or a review, of the main concepts you will need to understand the QAOA algorithm and the problem at hand.\n",
    "\n",
    "Feel free to skip it if you are already familiar with Pauli strings, Hamiltonians and VQAs. "
   ]
  },
  {
   "cell_type": "markdown",
   "metadata": {},
   "source": [
    "## Measurement of a Quantum State\n",
    "The measurement of a quantum state is probabilistic.<br> For a quantum state $|\\psi\\rangle = \\sum_{i=0}^{2^N-1}\\alpha_i |i\\rangle$, the probability of measuring the state $|i\\rangle$ is $|\\alpha_i|^2$.\n",
    "\n",
    "Since the result of a measurement is probabilistic, we need to prepare and measure a specific quantum state several times.\n",
    "\n",
    "The result is a dictionary with the key, value pair ($k$, $v$):\n",
    "- $k$, a measured state\n",
    "- $v$, the number of times the associated state was measured (counts)\n"
   ]
  },
  {
   "cell_type": "code",
   "execution_count": 1,
   "metadata": {
    "ExecuteTime": {
     "end_time": "2025-05-29T18:34:11.382222Z",
     "start_time": "2025-05-29T18:34:11.052153Z"
    }
   },
   "outputs": [],
   "source": [
    "import numpy as np"
   ]
  },
  {
   "cell_type": "code",
   "execution_count": 2,
   "metadata": {
    "ExecuteTime": {
     "end_time": "2025-05-29T18:34:12.573009Z",
     "start_time": "2025-05-29T18:34:11.387737Z"
    }
   },
   "outputs": [
    {
     "name": "stdout",
     "output_type": "stream",
     "text": [
      "{'00': 255, '10': 253, '01': 248, '11': 244}\n"
     ]
    },
    {
     "data": {
      "image/png": "[encoded data removed]",
      "text/plain": [
       "<Figure size 298.065x170.567 with 1 Axes>"
      ]
     },
     "execution_count": 2,
     "metadata": {},
     "output_type": "execute_result"
    }
   ],
   "source": [
    "from qiskit import QuantumCircuit\n",
    "from qiskit_aer import AerSimulator\n",
    "from qiskit_ibm_runtime import SamplerV2 as Sampler\n",
    "\n",
    "qc = QuantumCircuit(2)\n",
    "qc.h([0, 1])\n",
    "qc.measure_all()\n",
    "\n",
    "simulator = AerSimulator()\n",
    "sampler = Sampler(simulator)\n",
    "result = sampler.run([qc], shots=1000).result()\n",
    "\n",
    "print(result[0].data.meas.get_counts())\n",
    "qc.draw('mpl', scale=0.6)"
   ]
  },
  {
   "cell_type": "markdown",
   "metadata": {},
   "source": [
    "## The Hamiltonian Operator\n",
    "\n",
    "Sometimes, we're not interested in sampling quantum states in the computational basis. Instead, we may be interested in the amount of ***energy*** associated to a quantum state.<br>\n",
    "\n",
    "To measure the energy of a quantum system, we define a ***Hamiltonian operator***. For this particular challenge, we will define the energy of a quantum state with the following two operators which can be measured on every qubit:\n",
    "\n",
    "$$\n",
    "I = \\begin{bmatrix} 1 & 0 \\\\ 0 & 1 \\end{bmatrix}\n",
    "\\qquad\n",
    "Z = \\begin{bmatrix} 1 & 0 \\\\ 0 & -1 \\end{bmatrix}\n",
    "$$\n",
    "\n",
    "We use the symbol $\\langle H \\rangle_{\\psi}$ to denote the average value of the Hamiltonian $H$ for the state $|\\psi\\rangle$. Here is the average value for the operators $I$ and $Z$ for the one-qubit states:\n",
    "\n",
    "$$\n",
    "\\begin{aligned}\n",
    "&\\begin{array}{ccc}\n",
    "   & \\langle I \\rangle_{\\psi} & \\langle Z \\rangle_{\\psi} \\\\\n",
    "\\hline\n",
    "|\\psi\\rangle = |0\\rangle & 1 & 1 \\\\\n",
    "\\hline\n",
    "|\\psi\\rangle = |1\\rangle  & 1 & -1 \\\\\n",
    "\\hline\n",
    "\\end{array}\n",
    "\\end{aligned}\n",
    "$$\n",
    "\n",
    "For two qubits, we can measure the average value of the observables $II$, $IZ$, $ZI$, $ZZ$.\n",
    "\n",
    "To do so, we only need to multiply the average value of the one-qubit operators. For example:\n",
    "\n",
    "$$ \\langle ZI\\rangle_{10} = \\langle Z\\rangle_1 \\langle I \\rangle_0 = (-1)(1) = 1 $$\n",
    "$$\\langle ZZ \\rangle_{11} = \\langle Z \\rangle_{1}\\langle Z \\rangle_{1} = (-1)(-1) = 1$$\n",
    "\n",
    "**Note**: Pauli strings are read from right to left.<br>\n",
    "For $ZI$, the operator $I$ is applied on qubit 0 and $Z$ on qubit 1.\n",
    "\n",
    "## Pauli Strings\n",
    "\n",
    "$I$ and $Z$ are part of a group of operators called the **Pauli operators**.\n",
    "\n",
    "When we want to measure the energy of a quantum state described by an Hamiltonian $H$, we express this latter as a sum of Pauli operators or a *Pauli string*.\n",
    "\n",
    "For example\n",
    "$$H = ZZZ + 1.2 IZZ - 0.6 ZIZ + 0.3 ZZI$$"
   ]
  },
  {
   "cell_type": "code",
   "execution_count": 3,
   "metadata": {
    "ExecuteTime": {
     "end_time": "2025-05-29T18:34:12.702798Z",
     "start_time": "2025-05-29T18:34:12.699404Z"
    }
   },
   "outputs": [
    {
     "name": "stdout",
     "output_type": "stream",
     "text": [
      "SparsePauliOp(['ZZZ', 'IZZ', 'ZIZ', 'ZZI'],\n",
      "              coeffs=[ 1. +0.j,  1.2+0.j, -0.6+0.j,  0.3+0.j])\n"
     ]
    }
   ],
   "source": [
    "from qiskit.quantum_info import SparsePauliOp\n",
    "\n",
    "H = SparsePauliOp(\n",
    "        data=[\"ZZZ\", \"IZZ\", \"ZIZ\", \"ZZI\"],\n",
    "        coeffs=[1.0, 1.2, -0.6, 0.3]\n",
    "                )\n",
    "\n",
    "print(H)"
   ]
  },
  {
   "cell_type": "markdown",
   "metadata": {},
   "source": [
    "## Estimation of an Average Value\n",
    "We estimate the average value of an observable by repeating the initial state preparation and the measurement of the final state of a circuit many times.\n",
    "\n",
    "For instance, let's see how to measure the average energy of $H = ZZZ + 1.2\\,IZZ -0.6\\,ZIZ + 0.3\\,ZZI$"
   ]
  },
  {
   "cell_type": "code",
   "execution_count": 4,
   "metadata": {
    "ExecuteTime": {
     "end_time": "2025-05-29T18:34:12.767568Z",
     "start_time": "2025-05-29T18:34:12.711683Z"
    }
   },
   "outputs": [
    {
     "name": "stdout",
     "output_type": "stream",
     "text": [
      "Valeur moyenne -0.0017\n"
     ]
    },
    {
     "data": {
      "image/png": "[encoded data removed]",
      "text/plain": [
       "<Figure size 163.108x227.422 with 1 Axes>"
      ]
     },
     "execution_count": 4,
     "metadata": {},
     "output_type": "execute_result"
    }
   ],
   "source": [
    "from qiskit_ibm_runtime import EstimatorV2 as Estimator\n",
    "\n",
    "qc = QuantumCircuit(3)\n",
    "qc.h([0, 1, 2])\n",
    "\n",
    "estimator = Estimator(simulator)\n",
    "result = estimator.run([(qc, H)]).result()\n",
    "\n",
    "print(f\"Valeur moyenne {result[0].data.evs:.4f}\")\n",
    "qc.draw('mpl', scale=0.8)"
   ]
  },
  {
   "cell_type": "markdown",
   "metadata": {},
   "source": [
    "## Variational Quantum Algorithm (VQA)\n",
    "VQAs are a type of hybrid algorithm where a parametrized quantum circuit is trained iteratively to solve a problem by minimizing a cost function. The optimal final state should offer a good approximation of a solution.\n",
    "\n",
    "These algorithms are hybrid since they leverage classical and quantum ressources. The evaluation of the cost function is done on a quantum computer, while parameter optimization is realized on a classical computer.\n",
    "\n",
    "\n",
    "<p align=\"center\">\n",
    "<img src=\"figures/vqa.png\" alt=\"probleme 1\" width=\"500\"/>\n",
    "</p>\n",
    "\n",
    "## Parametrized circuit or Ansatz\n",
    "Similarly to neural networks in machine learning, we need to provide a fixed architecture for the parametrized circuit which will encode the optimal quantum state solving the problem at hand.\n",
    "\n",
    "This particular circuit is called *Ansatz*, a word borrowed from German meaning \"root\" or \"start\". It is an educated guess on what would constitute a \"good solution\".\n",
    "\n",
    "The choice of paramtrized quantum gates, the specific qubit wires where they are applied, their order in a sequence, and the number of repetitions of said sequence or *layer*, are as many examples of hyperparameters to tune while testing an ansatz."
   ]
  },
  {
   "cell_type": "code",
   "execution_count": 5,
   "metadata": {
    "ExecuteTime": {
     "end_time": "2025-05-29T18:34:13.175678Z",
     "start_time": "2025-05-29T18:34:12.786056Z"
    }
   },
   "outputs": [
    {
     "data": {
      "image/png": "[encoded data removed]",
      "text/plain": [
       "<Figure size 610.942x198.994 with 1 Axes>"
      ]
     },
     "execution_count": 5,
     "metadata": {},
     "output_type": "execute_result"
    }
   ],
   "source": [
    "from qiskit.circuit import ParameterVector, QuantumCircuit\n",
    "\n",
    "nb_layers = 3\n",
    "nb_qubits = 3\n",
    "qc = QuantumCircuit(nb_qubits)\n",
    "params = ParameterVector(\"p\", nb_layers * nb_qubits)\n",
    "\n",
    "for layer in range(nb_layers):\n",
    "    for q in range(nb_qubits):\n",
    "        qc.ry(params[q + layer * nb_qubits], q)\n",
    "        if q != 0:\n",
    "            qc.cx(q - 1, q)\n",
    "qc.draw('mpl', scale=0.7)"
   ]
  },
  {
   "cell_type": "markdown",
   "metadata": {},
   "source": [
    "## Cost function\n",
    "The cost function associates a real number to a set of ansatz's parameters.\n",
    "We want to find the set of parameters minimizing the cost function.\n",
    "In the context of VQAs, the cost fucntion is computed using the results of taking measurements at the end of updated parametrized quantum circuits.\n",
    "\n",
    "## Optimizer\n",
    "An algorithm specializing in minimizing a cost function.\n",
    "\n",
    "Some optimizers are gradient-free:\n",
    "* [COBYLA](https://qiskit-community.github.io/qiskit-algorithms/stubs/qiskit_algorithms.optimizers.COBYLA.html)\n",
    "* [SPSA](https://qiskit-community.github.io/qiskit-algorithms/stubs/qiskit_algorithms.optimizers.SPSA.html)\n",
    "\n",
    "While others require gradient computations of the ansatz's parameters:\n",
    "* [BFGS](https://qiskit-community.github.io/qiskit-algorithms/stubs/qiskit_algorithms.optimizers.L_BFGS_B.html)\n",
    "* [Adam](https://qiskit-community.github.io/qiskit-algorithms/stubs/qiskit_algorithms.optimizers.ADAM.html)\n",
    "\n",
    "**Note**: Computing the gradients of an ansatz's parameters will cost **$O(N_{params})$ circuit evaluations per iteration**.\n",
    "\n",
    "## Combinatorial Optimization\n",
    "According to Wikipedia:\n",
    "> Combinatorial optimization is a subfield of mathematical optimization that consists of finding an optimal object from a finite set of objects, where the set of feasible solutions is discrete or can be reduced to a discrete set. \n",
    "\n",
    "> In many such problems [...], exhaustive search is not tractable, and so specialized algorithms that quickly rule out large parts of the search space or approximation algorithms must be resorted to instead."
   ]
  },
  {
   "cell_type": "markdown",
   "metadata": {},
   "source": [
    "# Quantum Approximate Optimization Algorithm\n",
    "or QAOA for short, is a search algorithm that finds the quantum state which minimizes a cost function $G$, it's quantum circuit has:\n",
    "- parameters to optimize\n",
    "- an encoding for the Hamiltonian modelizing the problem\n",
    "\n",
    "Preparing the quantum state that minimizes $G$ is equivalent to maximizing the probability of measuring a \"good solution\".\n",
    "\n",
    "QAOA circuit is composed of 2 sub-circuits:\n",
    "1. a **mixer** circuit, $U_{mix}(\\beta)$\n",
    "2. a **problem** circuit, $U(H_{prob}, \\gamma)$\n",
    "\n",
    "These two circuits are repeated $p$ times in alternance. Here is an example with $p=2$:\n",
    "\n",
    "<p align=\"center\">\n",
    "<img src=\"figures/circuit_qaoa.png\" alt=\"probleme 1\" width=\"600\"/>\n",
    "</p>\n",
    "\n"
   ]
  },
  {
   "cell_type": "code",
   "execution_count": 6,
   "metadata": {
    "ExecuteTime": {
     "end_time": "2025-05-29T18:34:13.310512Z",
     "start_time": "2025-05-29T18:34:13.186669Z"
    }
   },
   "outputs": [
    {
     "data": {
      "image/png": "[encoded data removed]",
      "text/plain": [
       "<Figure size 1105.28x309.361 with 1 Axes>"
      ]
     },
     "execution_count": 6,
     "metadata": {},
     "output_type": "execute_result"
    }
   ],
   "source": [
    "\"\"\"QAOA Circuit Qiskit\"\"\"\n",
    "\n",
    "from qiskit.circuit.library import QAOAAnsatz\n",
    "\n",
    "p = 2\n",
    "circuit_qaoa = QAOAAnsatz(H, reps=p)\n",
    "\n",
    "circuit_qaoa.decompose(reps=2).draw('mpl', scale=0.5)"
   ]
  },
  {
   "cell_type": "code",
   "execution_count": 7,
   "metadata": {
    "ExecuteTime": {
     "end_time": "2025-05-29T18:34:13.754930Z",
     "start_time": "2025-05-29T18:34:13.319985Z"
    }
   },
   "outputs": [
    {
     "name": "stdout",
     "output_type": "stream",
     "text": [
      "Optimal cost evaluated : -1.9409667968749997\n"
     ]
    }
   ],
   "source": [
    "\"\"\"Optimizing a QAOA circuit\"\"\"\n",
    "\n",
    "from scipy.optimize import minimize\n",
    "\n",
    "def fonction_cout(params, estimator, circuit, H):\n",
    "    result = estimator.run([(circuit, H, params)]).result()\n",
    "    cout = result[0].data.evs\n",
    "    return cout\n",
    "\n",
    "params_init = np.zeros(circuit_qaoa.num_parameters)\n",
    "res_opt = minimize(fonction_cout,\n",
    "                   params_init,\n",
    "                   args=(estimator, circuit_qaoa.decompose(reps=2), H),\n",
    "                   method=\"COBYLA\")\n",
    "\n",
    "print(\"Optimal cost evaluated :\", res_opt.fun)"
   ]
  }
 ],
 "metadata": {
  "kernelspec": {
   "display_name": "qhack25",
   "language": "python",
   "name": "python3"
  },
  "language_info": {
   "codemirror_mode": {
    "name": "ipython",
    "version": 3
   },
   "file_extension": ".py",
   "mimetype": "text/x-python",
   "name": "python",
   "nbconvert_exporter": "python",
   "pygments_lexer": "ipython3",
   "version": "3.13.5"
  }
 },
 "nbformat": 4,
 "nbformat_minor": 2
}
