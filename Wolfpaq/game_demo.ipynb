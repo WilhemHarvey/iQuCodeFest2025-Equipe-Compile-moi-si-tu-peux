{
 "cells": [
  {
   "cell_type": "markdown",
   "id": "5adf7bd6",
   "metadata": {},
   "source": [
    "# **The quantum werewolf**\n",
    "Our game is a quantum version of the role game: \"werewolf\". The main idea is that the roles are applying gates to quantum circuit to determine if a player dies or not. \n",
    "\n",
    "In the morning, the quantum circuit will be measured in the Z-basis. If the outcome of the measurement for a player is the state $\\ket{1}$ then the player is dead. Else if the state measured is $\\ket{0}$, the player lives for another day.  "
   ]
  },
  {
   "cell_type": "markdown",
   "id": "3ecfe900",
   "metadata": {},
   "source": [
    "## **Goal of the game**\n",
    "Two different parties are fighting, the village and the werewolves. The villagers wants to kill the werewolves to protect themself, while the werewolves wants to kill all the villagers. \n",
    "\n",
    "There's some cases that can trigger the end of the game. \n",
    "1. If all the werewolves have been eliminated, then the village has won. \n",
    "2. If the number of werewolves is more than half of the village, then the werewolves have won, because they will eventually kill all of the village."
   ]
  },
  {
   "cell_type": "markdown",
   "id": "0b8a52c5",
   "metadata": {},
   "source": [
    "## **Cupid**\n",
    "Cupid is played only in the first night of the game. His role is to choose two lovers which will be entangled for the rest of the game. When two players are lovers, they are affected by a control gate each night before the measurement of the circuit. That has the effect of killing them two if one is measured to be one, because of the projective measure.  "
   ]
  },
  {
   "cell_type": "code",
   "execution_count": null,
   "id": "f30240dc",
   "metadata": {},
   "outputs": [],
   "source": [
    "# TODO giving examples which shows how the cupid works"
   ]
  },
  {
   "cell_type": "markdown",
   "id": "019fa8e0",
   "metadata": {},
   "source": [
    "## **The clairvoyante**\n",
    "The clairvoyante role is the same as in the classic game. The player can see the role of another player. This doesn't rely on any quantum computing at all."
   ]
  },
  {
   "cell_type": "code",
   "execution_count": null,
   "id": "cb13d33d",
   "metadata": {},
   "outputs": [],
   "source": [
    "# TODO giving examples which shows how the clairvoyante works"
   ]
  },
  {
   "cell_type": "markdown",
   "id": "d5e50a8d",
   "metadata": {},
   "source": [
    "## **The werewolves**\n",
    "During the night, the werewolves are voting for a player that they want to affect with their gate. The choosen player is affected by the gate on the qubit that represent himself. The applied gate is a Rx($\\frac{2\\pi}{3}$). That gate then creates a superposition state where the choosen player has a higher chance of being killed when the quantum circuit will be measured in the morning. "
   ]
  },
  {
   "cell_type": "code",
   "execution_count": null,
   "id": "49ae0dcf",
   "metadata": {},
   "outputs": [],
   "source": [
    "# TODO giving examples which shows how the werefols works"
   ]
  },
  {
   "cell_type": "markdown",
   "id": "985d1e0a",
   "metadata": {},
   "source": [
    "## **The witch**\n",
    "The witch can apply two different gates during the game. The player can decide which gate he wants to apply for a given turn. The whitch can only apply these gates once each in the game. The two gates are the attacking gate and the save gate. \n",
    "\n",
    "The attacking gate is simply a Rx($\\frac{\\pi}{3}$) gate on the targeted player, and the save gate is a Rx($\\frac{-\\pi}{3}$) so that the probability of measuring zero is greater if a player has been attacked. "
   ]
  },
  {
   "cell_type": "code",
   "execution_count": null,
   "id": "fa8aa37f",
   "metadata": {},
   "outputs": [],
   "source": [
    "# TODO giving examples which shows how the witch works"
   ]
  },
  {
   "cell_type": "markdown",
   "id": "9e4b133e",
   "metadata": {},
   "source": [
    "## **The captain**\n",
    "This role is also much of a classical role. The captain has two votes instead of only one during the vote phase."
   ]
  },
  {
   "cell_type": "code",
   "execution_count": null,
   "id": "1aa307cb",
   "metadata": {},
   "outputs": [],
   "source": [
    "# TODO giving examples which shows how the captain works"
   ]
  },
  {
   "cell_type": "markdown",
   "id": "31d36cda",
   "metadata": {},
   "source": [
    "## **The saviour**\n",
    "The saviour is the protector of the village. He has a special ability that he can do once per turn. The saviour can reset the qubit of a player to the $\\ket{0}$ state. The probability of the targeted player dying is then reset to zero, as the state is no longer a superposition with the $\\ket{1}$ state. "
   ]
  },
  {
   "cell_type": "code",
   "execution_count": null,
   "id": "3011286c",
   "metadata": {},
   "outputs": [],
   "source": [
    "# TODO giving examples which shows how the saviour works "
   ]
  },
  {
   "cell_type": "markdown",
   "id": "5268eec1",
   "metadata": {},
   "source": [
    "## **The thief**\n",
    "The thief can exchange role with another player of his choice. The idea behind this role is a swap gate between the two players. The swap gate is only applied if the two players have been attacked. If not, we change their indices to acces their qubits. The thief change role and quantum circuit with the targeted player. "
   ]
  },
  {
   "cell_type": "code",
   "execution_count": null,
   "id": "ab5e1e1c",
   "metadata": {},
   "outputs": [],
   "source": [
    "# TODO giving examples which shows how the thief works"
   ]
  },
  {
   "cell_type": "markdown",
   "id": "b428918c",
   "metadata": {},
   "source": [
    "## **The hunter**\n",
    "The hunter is a simple villager until he dies. When he's measured at the state $\\ket{1}$ such that he will die, the hunter can target a player to affect with his gate. His gate is a Rx($\\theta$) that creates the superposition state $\\sqrt{0.1}\\ket{0} + \\sqrt{0.9}\\ket{1}$ from the state $\\ket{0}$. That has the effect of killing the targeted player with a probability of 90%. The qubit of the targeted player is instantly measured, killing or not the targeted player based on the measure result. The hunter then dies too, has he is suppose to."
   ]
  },
  {
   "cell_type": "code",
   "execution_count": null,
   "id": "0b8e79fd",
   "metadata": {},
   "outputs": [],
   "source": [
    "# TODO giving examples which shows how the hunter works"
   ]
  },
  {
   "cell_type": "markdown",
   "id": "d97d61b0",
   "metadata": {},
   "source": [
    "## **Running the game**\n",
    "We implemented the game such that you can play it as the master of the game and use it to direct the game according to what the code tells you."
   ]
  },
  {
   "cell_type": "code",
   "execution_count": null,
   "id": "1764cab2",
   "metadata": {},
   "outputs": [],
   "source": [
    "# TODO example of a game"
   ]
  }
 ],
 "metadata": {
  "language_info": {
   "name": "python"
  }
 },
 "nbformat": 4,
 "nbformat_minor": 5
}
