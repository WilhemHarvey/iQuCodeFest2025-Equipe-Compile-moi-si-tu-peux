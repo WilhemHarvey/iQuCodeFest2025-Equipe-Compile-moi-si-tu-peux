{
 "cells": [
  {
   "cell_type": "code",
   "execution_count": null,
   "id": "25ceda39",
   "metadata": {},
   "outputs": [],
   "source": []
  },
  {
   "cell_type": "markdown",
   "id": "5adf7bd6",
   "metadata": {},
   "source": [
    "# **The quantum werewolf**\n",
    "Our game is a quantum version of the role game: \"werewolf\". The main idea is that the roles are applying gates to quantum circuit to determine if a player dies or not. \n",
    "\n",
    "In the morning, the quantum circuit will be measured in the Z-basis. If the outcome of the measurement for a player is the state |1> then the player is dead. Else if the state measured is |0>, the player lives for another day.  "
   ]
  },
  {
   "cell_type": "markdown",
   "id": "3ecfe900",
   "metadata": {},
   "source": [
    "## **Goal of the game**\n",
    "Two different party are "
   ]
  },
  {
   "cell_type": "markdown",
   "id": "0b8a52c5",
   "metadata": {},
   "source": [
    "## **Cupid**\n",
    "Cupid is played only in the first night of the game. His role is to choose two lovers which will be entangled for the rest of the game. When two players are lovers, they are affected by a control gate each night before the measurement of the circuit. That has the effect of killing them two if one is measured to be one, because of the projective measure.  "
   ]
  },
  {
   "cell_type": "code",
   "execution_count": null,
   "id": "f30240dc",
   "metadata": {},
   "outputs": [],
   "source": [
    "# TODO giving examples which shows how the cupid works"
   ]
  },
  {
   "cell_type": "markdown",
   "id": "019fa8e0",
   "metadata": {},
   "source": [
    "## **The clairvoyante**\n",
    "The clairvoyante role is the same as in the classic game. The player can see the role of another player. This doesn't rely on any quantum computing at all."
   ]
  },
  {
   "cell_type": "code",
   "execution_count": null,
   "id": "cb13d33d",
   "metadata": {},
   "outputs": [],
   "source": [
    "# TODO giving examples which shows how the clairvoyante works"
   ]
  },
  {
   "cell_type": "markdown",
   "id": "d5e50a8d",
   "metadata": {},
   "source": [
    "## **The werewolfs**\n",
    "During the night, the werewolfs are voting for a player that they want to affect with their gate. The choosen player is affected by the gate on the qubit that represent himself. The applied gate is a Rx(angle). That gate then creates a superposition state where the choosen player has a higher chance of being killed when the quantum circuit will be measured in the morning. "
   ]
  },
  {
   "cell_type": "code",
   "execution_count": null,
   "id": "49ae0dcf",
   "metadata": {},
   "outputs": [],
   "source": [
    "# TODO giving examples which shows how the werefols works"
   ]
  },
  {
   "cell_type": "markdown",
   "id": "985d1e0a",
   "metadata": {},
   "source": [
    "## **The witch**\n",
    "The witch can apply two different gates during the game. The player can decide which gate he wants to apply for a given turn The whitch can only apply these gates once each in the game. The two gates are the attacking gate and the save gate. "
   ]
  },
  {
   "cell_type": "code",
   "execution_count": null,
   "id": "fa8aa37f",
   "metadata": {},
   "outputs": [],
   "source": []
  }
 ],
 "metadata": {
  "language_info": {
   "name": "python"
  }
 },
 "nbformat": 4,
 "nbformat_minor": 5
}
